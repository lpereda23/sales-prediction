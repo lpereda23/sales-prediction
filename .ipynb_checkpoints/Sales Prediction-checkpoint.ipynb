{
 "cells": [
  {
   "cell_type": "markdown",
   "id": "e2bd6da2",
   "metadata": {},
   "source": [
    "# Sales Prediction with Machine Learning"
   ]
  },
  {
   "cell_type": "markdown",
   "id": "ca9d0ca5",
   "metadata": {},
   "source": [
    "> One of the most helpful tools in a business is to be able to predict sales and from there where a business should focus more on advertising and where they should cut spending. "
   ]
  },
  {
   "cell_type": "markdown",
   "id": "9cfede54",
   "metadata": {},
   "source": [
    "## What is Sales Prediction?"
   ]
  },
  {
   "cell_type": "markdown",
   "id": "c7fa7f51",
   "metadata": {},
   "source": [
    "Sales prediction means how much product will people buy depending on factors such as advertising budget, the audience the business is focusing on to advertise on or the advertising platform for your product. \n",
    "____\n",
    "\n",
    "In general, a product's sale is primarily dependent on how much is spent on advertising, the more people it reaches the greater the sales increase, of course counting on a good quality product. "
   ]
  },
  {
   "cell_type": "markdown",
   "id": "0848ee82",
   "metadata": {},
   "source": [
    "## Sales Prediction using Python"
   ]
  },
  {
   "cell_type": "markdown",
   "id": "2e38d8b2",
   "metadata": {},
   "source": [
    "### Imports"
   ]
  },
  {
   "cell_type": "code",
   "execution_count": 2,
   "id": "97e4108b",
   "metadata": {},
   "outputs": [],
   "source": [
    "import pandas as pd\n",
    "import numpy as np\n",
    "import matplotlib.pyplot as plt\n",
    "import seaborn as sns\n",
    "from sklearn.model_selection import train_test_split\n",
    "from sklearn.linear_model import LinearRegression\n",
    "\n",
    "df = pd.read_csv('advertising_data.csv')"
   ]
  },
  {
   "cell_type": "code",
   "execution_count": 3,
   "id": "e0f40350",
   "metadata": {},
   "outputs": [
    {
     "data": {
      "text/html": [
       "<div>\n",
       "<style scoped>\n",
       "    .dataframe tbody tr th:only-of-type {\n",
       "        vertical-align: middle;\n",
       "    }\n",
       "\n",
       "    .dataframe tbody tr th {\n",
       "        vertical-align: top;\n",
       "    }\n",
       "\n",
       "    .dataframe thead th {\n",
       "        text-align: right;\n",
       "    }\n",
       "</style>\n",
       "<table border=\"1\" class=\"dataframe\">\n",
       "  <thead>\n",
       "    <tr style=\"text-align: right;\">\n",
       "      <th></th>\n",
       "      <th>TV</th>\n",
       "      <th>Radio</th>\n",
       "      <th>Newspaper</th>\n",
       "      <th>Sales</th>\n",
       "    </tr>\n",
       "  </thead>\n",
       "  <tbody>\n",
       "    <tr>\n",
       "      <th>0</th>\n",
       "      <td>230.1</td>\n",
       "      <td>37.8</td>\n",
       "      <td>69.2</td>\n",
       "      <td>22.1</td>\n",
       "    </tr>\n",
       "    <tr>\n",
       "      <th>1</th>\n",
       "      <td>44.5</td>\n",
       "      <td>39.3</td>\n",
       "      <td>45.1</td>\n",
       "      <td>10.4</td>\n",
       "    </tr>\n",
       "    <tr>\n",
       "      <th>2</th>\n",
       "      <td>17.2</td>\n",
       "      <td>45.9</td>\n",
       "      <td>69.3</td>\n",
       "      <td>12.0</td>\n",
       "    </tr>\n",
       "    <tr>\n",
       "      <th>3</th>\n",
       "      <td>151.5</td>\n",
       "      <td>41.3</td>\n",
       "      <td>58.5</td>\n",
       "      <td>16.5</td>\n",
       "    </tr>\n",
       "    <tr>\n",
       "      <th>4</th>\n",
       "      <td>180.8</td>\n",
       "      <td>10.8</td>\n",
       "      <td>58.4</td>\n",
       "      <td>17.9</td>\n",
       "    </tr>\n",
       "  </tbody>\n",
       "</table>\n",
       "</div>"
      ],
      "text/plain": [
       "      TV  Radio  Newspaper  Sales\n",
       "0  230.1   37.8       69.2   22.1\n",
       "1   44.5   39.3       45.1   10.4\n",
       "2   17.2   45.9       69.3   12.0\n",
       "3  151.5   41.3       58.5   16.5\n",
       "4  180.8   10.8       58.4   17.9"
      ]
     },
     "execution_count": 3,
     "metadata": {},
     "output_type": "execute_result"
    }
   ],
   "source": [
    "df.head()"
   ]
  },
  {
   "cell_type": "code",
   "execution_count": 4,
   "id": "d8b45a5b",
   "metadata": {},
   "outputs": [
    {
     "name": "stdout",
     "output_type": "stream",
     "text": [
      "TV           0\n",
      "Radio        0\n",
      "Newspaper    0\n",
      "Sales        0\n",
      "dtype: int64\n"
     ]
    }
   ],
   "source": [
    "print(df.isnull().sum())"
   ]
  },
  {
   "cell_type": "markdown",
   "id": "2cc4e619",
   "metadata": {},
   "source": [
    "> This dataset does not contain any null values. In a real life problem this would probably not be the case and some feature engineering might be needed "
   ]
  },
  {
   "cell_type": "code",
   "execution_count": 5,
   "id": "80d4840e",
   "metadata": {},
   "outputs": [
    {
     "data": {
      "image/png": "[encoded data removed]",
      "text/plain": [
       "<Figure size 864x720 with 2 Axes>"
      ]
     },
     "metadata": {},
     "output_type": "display_data"
    }
   ],
   "source": [
    "plt.style.use('seaborn-whitegrid')\n",
    "plt.figure(figsize=(12, 10))\n",
    "sns.heatmap(df.corr())\n",
    "plt.show()"
   ]
  },
  {
   "cell_type": "markdown",
   "id": "2f445ce4",
   "metadata": {},
   "source": [
    "> Here taking a look into the correlation between features "
   ]
  },
  {
   "cell_type": "code",
   "execution_count": 7,
   "id": "0bbabd9e",
   "metadata": {},
   "outputs": [
    {
     "name": "stdout",
     "output_type": "stream",
     "text": [
      "    Predicted Sales\n",
      "0         17.034772\n",
      "1         20.409740\n",
      "2         23.723989\n",
      "3          9.272785\n",
      "4         21.682719\n",
      "5         12.569402\n",
      "6         21.081195\n",
      "7          8.690350\n",
      "8         17.237013\n",
      "9         16.666575\n",
      "10         8.923965\n",
      "11         8.481734\n",
      "12        18.207512\n",
      "13         8.067507\n",
      "14        12.645510\n",
      "15        14.931628\n",
      "16         8.128146\n",
      "17        17.898766\n",
      "18        11.008806\n",
      "19        20.478328\n",
      "20        20.806318\n",
      "21        12.598833\n",
      "22        10.905183\n",
      "23        22.388548\n",
      "24         9.417961\n",
      "25         7.925067\n",
      "26        20.839085\n",
      "27        13.815209\n",
      "28        10.770809\n",
      "29         7.926825\n",
      "30        15.959474\n",
      "31        10.634909\n",
      "32        20.802920\n",
      "33        10.434342\n",
      "34        21.578475\n",
      "35        21.183645\n",
      "36        12.128218\n",
      "37        22.809533\n",
      "38        12.609928\n",
      "39         6.464413\n"
     ]
    },
    {
     "name": "stderr",
     "output_type": "stream",
     "text": [
      "/var/folders/bn/3hn0vc_12j3_6mz39fsz1xwh0000gn/T/ipykernel_12197/3265248427.py:1: FutureWarning: In a future version of pandas all arguments of DataFrame.drop except for the argument 'labels' will be keyword-only\n",
      "  X = np.array(df.drop(['Sales'], 1))\n"
     ]
    }
   ],
   "source": [
    "X = np.array(df.drop(['Sales'], 1))\n",
    "Y = np.array(df['Sales'])\n",
    "x_train, x_test, y_train, y_test = train_test_split(X, Y, \n",
    "                                                   test_size=0.2,\n",
    "                                                   random_state=42)\n",
    "model = LinearRegression()\n",
    "model.fit(x_train, y_train)\n",
    "y_pred = model.predict(x_test)\n",
    "\n",
    "data = pd.DataFrame(data={\"Predicted Sales\": y_pred.flatten()})\n",
    "print(data)"
   ]
  },
  {
   "cell_type": "code",
   "execution_count": null,
   "id": "7f1596e7",
   "metadata": {},
   "outputs": [],
   "source": []
  }
 ],
 "metadata": {
  "kernelspec": {
   "display_name": "Python 3 (ipykernel)",
   "language": "python",
   "name": "python3"
  },
  "language_info": {
   "codemirror_mode": {
    "name": "ipython",
    "version": 3
   },
   "file_extension": ".py",
   "mimetype": "text/x-python",
   "name": "python",
   "nbconvert_exporter": "python",
   "pygments_lexer": "ipython3",
   "version": "3.8.6"
  },
  "toc": {
   "base_numbering": 1,
   "nav_menu": {},
   "number_sections": true,
   "sideBar": true,
   "skip_h1_title": false,
   "title_cell": "Table of Contents",
   "title_sidebar": "Contents",
   "toc_cell": false,
   "toc_position": {},
   "toc_section_display": true,
   "toc_window_display": false
  }
 },
 "nbformat": 4,
 "nbformat_minor": 5
}
